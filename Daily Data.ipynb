{
 "cells": [
  {
   "cell_type": "markdown",
   "metadata": {},
   "source": [
    "# Background and notes:\n",
    "\"Electricity demand patterns matter for valuing electricity supply resources\" http://www.eia.gov/todayinenergy/detail.cfm?id=12711\n",
    "\"Case study of daily electricity demand in New England\" (shows hourly curve): http://www.eia.gov/todayinenergy/detail.cfm?id=830\n",
    "hourly_jan01 = requests.get(\"https://webservices.iso-ne.com/api/v1.1/combinedhourlydemand/day/20140101/location/4008.json\", auth=('travisknop@gmail.com', 'Nirvana1'))\n",
    "Hourly day electricity demand: http://www.iso-ne.com/isoexpress/web/reports/load-and-demand/-/tree/demand-by-zone\n",
    "NOAA data: http://www7.ncdc.noaa.gov/CDO/cdoselect.cmd\n",
    "Nat gas pipelines: http://www.eia.gov/pub/oil_gas/natural_gas/analysis_publications/ngpipeline/northeast.html\n",
    "Common ISO-NE Abbrevs\n",
    "drtp = demand response threshhold price\n",
    "lmp = Locational Marginal Pricing"
   ]
  },
  {
   "cell_type": "code",
   "execution_count": 1,
   "metadata": {
    "collapsed": false
   },
   "outputs": [
    {
     "name": "stderr",
     "output_type": "stream",
     "text": [
      "/Users/travisknop/travis_python/.direnv/python-3.5.0/lib/python3.5/site-packages/sklearn/utils/fixes.py:64: DeprecationWarning: inspect.getargspec() is deprecated, use inspect.signature() instead\n",
      "  if 'order' in inspect.getargspec(np.copy)[0]:\n"
     ]
    }
   ],
   "source": [
    "import pandas as pd\n",
    "import numpy as np\n",
    "import matplotlib.pyplot as plt\n",
    "import seaborn\n",
    "import scipy\n",
    "import sklearn\n",
    "import itertools\n",
    "from sklearn.pipeline import Pipeline\n",
    "from sklearn.preprocessing import PolynomialFeatures\n",
    "from sklearn.linear_model import LinearRegression\n",
    "from sklearn import naive_bayes\n",
    "from sklearn import metrics    \n",
    "%matplotlib inline"
   ]
  },
  {
   "cell_type": "markdown",
   "metadata": {},
   "source": [
    "## Energy Sources"
   ]
  },
  {
   "cell_type": "code",
   "execution_count": 2,
   "metadata": {
    "collapsed": false
   },
   "outputs": [
    {
     "name": "stdout",
     "output_type": "stream",
     "text": [
      "Index(['Total Generation (GWh)', 'Gas', 'Nuclear', 'Hydro', 'Coal', 'Oil/Gas',\n",
      "       'Wood/Refuse', 'Refuse', 'Wind', 'Oil', 'Landfill Gas', 'Solar',\n",
      "       'Steam', 'Methane/Refuse'],\n",
      "      dtype='object', name='2014')\n"
     ]
    },
    {
     "data": {
      "text/html": [
       "<div>\n",
       "<table border=\"1\" class=\"dataframe\">\n",
       "  <thead>\n",
       "    <tr style=\"text-align: right;\">\n",
       "      <th></th>\n",
       "      <th>Date</th>\n",
       "      <th>JAN</th>\n",
       "      <th>FEB</th>\n",
       "      <th>MAR</th>\n",
       "      <th>APR</th>\n",
       "      <th>MAY</th>\n",
       "      <th>JUN</th>\n",
       "      <th>JUL</th>\n",
       "      <th>AUG</th>\n",
       "      <th>SEP</th>\n",
       "      <th>OCT</th>\n",
       "      <th>NOV</th>\n",
       "      <th>DEC</th>\n",
       "      <th>annual_pct</th>\n",
       "    </tr>\n",
       "    <tr>\n",
       "      <th>2014</th>\n",
       "      <th></th>\n",
       "      <th></th>\n",
       "      <th></th>\n",
       "      <th></th>\n",
       "      <th></th>\n",
       "      <th></th>\n",
       "      <th></th>\n",
       "      <th></th>\n",
       "      <th></th>\n",
       "      <th></th>\n",
       "      <th></th>\n",
       "      <th></th>\n",
       "      <th></th>\n",
       "      <th></th>\n",
       "    </tr>\n",
       "  </thead>\n",
       "  <tbody>\n",
       "    <tr>\n",
       "      <th>Total Generation (GWh)</th>\n",
       "      <td>108357</td>\n",
       "      <td>10095</td>\n",
       "      <td>8345</td>\n",
       "      <td>9051</td>\n",
       "      <td>8013</td>\n",
       "      <td>8435</td>\n",
       "      <td>9322</td>\n",
       "      <td>11085</td>\n",
       "      <td>10081</td>\n",
       "      <td>8927</td>\n",
       "      <td>8302</td>\n",
       "      <td>8031</td>\n",
       "      <td>8671</td>\n",
       "      <td>1.000000</td>\n",
       "    </tr>\n",
       "    <tr>\n",
       "      <th>Gas</th>\n",
       "      <td>42745</td>\n",
       "      <td>2472</td>\n",
       "      <td>2342</td>\n",
       "      <td>2362</td>\n",
       "      <td>3560</td>\n",
       "      <td>3588</td>\n",
       "      <td>4265</td>\n",
       "      <td>5354</td>\n",
       "      <td>4861</td>\n",
       "      <td>4037</td>\n",
       "      <td>3805</td>\n",
       "      <td>2985</td>\n",
       "      <td>3115</td>\n",
       "      <td>0.394483</td>\n",
       "    </tr>\n",
       "    <tr>\n",
       "      <th>Nuclear</th>\n",
       "      <td>36838</td>\n",
       "      <td>3440</td>\n",
       "      <td>3070</td>\n",
       "      <td>3454</td>\n",
       "      <td>2058</td>\n",
       "      <td>2718</td>\n",
       "      <td>3240</td>\n",
       "      <td>3336</td>\n",
       "      <td>3344</td>\n",
       "      <td>3297</td>\n",
       "      <td>2797</td>\n",
       "      <td>2766</td>\n",
       "      <td>3319</td>\n",
       "      <td>0.339969</td>\n",
       "    </tr>\n",
       "    <tr>\n",
       "      <th>Hydro</th>\n",
       "      <td>8708</td>\n",
       "      <td>846</td>\n",
       "      <td>614</td>\n",
       "      <td>595</td>\n",
       "      <td>928</td>\n",
       "      <td>1074</td>\n",
       "      <td>723</td>\n",
       "      <td>774</td>\n",
       "      <td>674</td>\n",
       "      <td>411</td>\n",
       "      <td>547</td>\n",
       "      <td>612</td>\n",
       "      <td>911</td>\n",
       "      <td>0.080364</td>\n",
       "    </tr>\n",
       "    <tr>\n",
       "      <th>Coal</th>\n",
       "      <td>5055</td>\n",
       "      <td>1067</td>\n",
       "      <td>1161</td>\n",
       "      <td>1239</td>\n",
       "      <td>352</td>\n",
       "      <td>21</td>\n",
       "      <td>42</td>\n",
       "      <td>231</td>\n",
       "      <td>41</td>\n",
       "      <td>62</td>\n",
       "      <td>4</td>\n",
       "      <td>548</td>\n",
       "      <td>286</td>\n",
       "      <td>0.046651</td>\n",
       "    </tr>\n",
       "    <tr>\n",
       "      <th>Oil/Gas</th>\n",
       "      <td>4839</td>\n",
       "      <td>952</td>\n",
       "      <td>369</td>\n",
       "      <td>371</td>\n",
       "      <td>379</td>\n",
       "      <td>308</td>\n",
       "      <td>299</td>\n",
       "      <td>607</td>\n",
       "      <td>389</td>\n",
       "      <td>367</td>\n",
       "      <td>316</td>\n",
       "      <td>254</td>\n",
       "      <td>230</td>\n",
       "      <td>0.044658</td>\n",
       "    </tr>\n",
       "    <tr>\n",
       "      <th>Wood/Refuse</th>\n",
       "      <td>3965</td>\n",
       "      <td>351</td>\n",
       "      <td>300</td>\n",
       "      <td>351</td>\n",
       "      <td>282</td>\n",
       "      <td>281</td>\n",
       "      <td>320</td>\n",
       "      <td>348</td>\n",
       "      <td>336</td>\n",
       "      <td>315</td>\n",
       "      <td>350</td>\n",
       "      <td>364</td>\n",
       "      <td>366</td>\n",
       "      <td>0.036592</td>\n",
       "    </tr>\n",
       "    <tr>\n",
       "      <th>Refuse</th>\n",
       "      <td>2577</td>\n",
       "      <td>213</td>\n",
       "      <td>188</td>\n",
       "      <td>234</td>\n",
       "      <td>186</td>\n",
       "      <td>221</td>\n",
       "      <td>225</td>\n",
       "      <td>218</td>\n",
       "      <td>225</td>\n",
       "      <td>216</td>\n",
       "      <td>222</td>\n",
       "      <td>221</td>\n",
       "      <td>209</td>\n",
       "      <td>0.023782</td>\n",
       "    </tr>\n",
       "    <tr>\n",
       "      <th>Wind</th>\n",
       "      <td>1929</td>\n",
       "      <td>211</td>\n",
       "      <td>177</td>\n",
       "      <td>204</td>\n",
       "      <td>190</td>\n",
       "      <td>137</td>\n",
       "      <td>114</td>\n",
       "      <td>114</td>\n",
       "      <td>90</td>\n",
       "      <td>135</td>\n",
       "      <td>185</td>\n",
       "      <td>212</td>\n",
       "      <td>160</td>\n",
       "      <td>0.017802</td>\n",
       "    </tr>\n",
       "    <tr>\n",
       "      <th>Oil</th>\n",
       "      <td>815</td>\n",
       "      <td>491</td>\n",
       "      <td>81</td>\n",
       "      <td>168</td>\n",
       "      <td>4</td>\n",
       "      <td>2</td>\n",
       "      <td>3</td>\n",
       "      <td>6</td>\n",
       "      <td>32</td>\n",
       "      <td>7</td>\n",
       "      <td>6</td>\n",
       "      <td>5</td>\n",
       "      <td>12</td>\n",
       "      <td>0.007521</td>\n",
       "    </tr>\n",
       "    <tr>\n",
       "      <th>Landfill Gas</th>\n",
       "      <td>477</td>\n",
       "      <td>39</td>\n",
       "      <td>32</td>\n",
       "      <td>41</td>\n",
       "      <td>40</td>\n",
       "      <td>41</td>\n",
       "      <td>41</td>\n",
       "      <td>41</td>\n",
       "      <td>42</td>\n",
       "      <td>37</td>\n",
       "      <td>40</td>\n",
       "      <td>42</td>\n",
       "      <td>42</td>\n",
       "      <td>0.004402</td>\n",
       "    </tr>\n",
       "    <tr>\n",
       "      <th>Solar</th>\n",
       "      <td>330</td>\n",
       "      <td>7</td>\n",
       "      <td>8</td>\n",
       "      <td>24</td>\n",
       "      <td>30</td>\n",
       "      <td>32</td>\n",
       "      <td>40</td>\n",
       "      <td>42</td>\n",
       "      <td>43</td>\n",
       "      <td>41</td>\n",
       "      <td>27</td>\n",
       "      <td>21</td>\n",
       "      <td>15</td>\n",
       "      <td>0.003045</td>\n",
       "    </tr>\n",
       "    <tr>\n",
       "      <th>Steam</th>\n",
       "      <td>45</td>\n",
       "      <td>3</td>\n",
       "      <td>0</td>\n",
       "      <td>5</td>\n",
       "      <td>1</td>\n",
       "      <td>9</td>\n",
       "      <td>8</td>\n",
       "      <td>11</td>\n",
       "      <td>2</td>\n",
       "      <td>1</td>\n",
       "      <td>2</td>\n",
       "      <td>0</td>\n",
       "      <td>4</td>\n",
       "      <td>0.000415</td>\n",
       "    </tr>\n",
       "    <tr>\n",
       "      <th>Methane/Refuse</th>\n",
       "      <td>35</td>\n",
       "      <td>3</td>\n",
       "      <td>3</td>\n",
       "      <td>3</td>\n",
       "      <td>3</td>\n",
       "      <td>3</td>\n",
       "      <td>3</td>\n",
       "      <td>3</td>\n",
       "      <td>3</td>\n",
       "      <td>3</td>\n",
       "      <td>3</td>\n",
       "      <td>3</td>\n",
       "      <td>3</td>\n",
       "      <td>0.000323</td>\n",
       "    </tr>\n",
       "  </tbody>\n",
       "</table>\n",
       "</div>"
      ],
      "text/plain": [
       "                          Date    JAN   FEB   MAR   APR   MAY   JUN    JUL  \\\n",
       "2014                                                                         \n",
       "Total Generation (GWh)  108357  10095  8345  9051  8013  8435  9322  11085   \n",
       "Gas                      42745   2472  2342  2362  3560  3588  4265   5354   \n",
       "Nuclear                  36838   3440  3070  3454  2058  2718  3240   3336   \n",
       "Hydro                     8708    846   614   595   928  1074   723    774   \n",
       "Coal                      5055   1067  1161  1239   352    21    42    231   \n",
       "Oil/Gas                   4839    952   369   371   379   308   299    607   \n",
       "Wood/Refuse               3965    351   300   351   282   281   320    348   \n",
       "Refuse                    2577    213   188   234   186   221   225    218   \n",
       "Wind                      1929    211   177   204   190   137   114    114   \n",
       "Oil                        815    491    81   168     4     2     3      6   \n",
       "Landfill Gas               477     39    32    41    40    41    41     41   \n",
       "Solar                      330      7     8    24    30    32    40     42   \n",
       "Steam                       45      3     0     5     1     9     8     11   \n",
       "Methane/Refuse              35      3     3     3     3     3     3      3   \n",
       "\n",
       "                          AUG   SEP   OCT   NOV   DEC  annual_pct  \n",
       "2014                                                               \n",
       "Total Generation (GWh)  10081  8927  8302  8031  8671    1.000000  \n",
       "Gas                      4861  4037  3805  2985  3115    0.394483  \n",
       "Nuclear                  3344  3297  2797  2766  3319    0.339969  \n",
       "Hydro                     674   411   547   612   911    0.080364  \n",
       "Coal                       41    62     4   548   286    0.046651  \n",
       "Oil/Gas                   389   367   316   254   230    0.044658  \n",
       "Wood/Refuse               336   315   350   364   366    0.036592  \n",
       "Refuse                    225   216   222   221   209    0.023782  \n",
       "Wind                       90   135   185   212   160    0.017802  \n",
       "Oil                        32     7     6     5    12    0.007521  \n",
       "Landfill Gas               42    37    40    42    42    0.004402  \n",
       "Solar                      43    41    27    21    15    0.003045  \n",
       "Steam                       2     1     2     0     4    0.000415  \n",
       "Methane/Refuse              3     3     3     3     3    0.000323  "
      ]
     },
     "execution_count": 2,
     "metadata": {},
     "output_type": "execute_result"
    }
   ],
   "source": [
    "def load_energy_source():\n",
    "    energy_source = pd.read_csv(\"~/travis_python/homework/FINAL/2014_energy_peak_source.csv\", header=1)\n",
    "    energy_source = energy_source.drop(energy_source.columns[14:], axis=1)\n",
    "    energy_source = energy_source.drop(energy_source.index[:22])\n",
    "    energy_source = energy_source.set_index(\"2014\")\n",
    "    energy_source = energy_source.applymap(int)\n",
    "    energy_source[\"annual_pct\"] = energy_source.Date / 108357\n",
    "    energy_source.loc[\"Hydro\"] = (energy_source.loc[\"Hydro:RunRiver&Pondage\"] + energy_source.loc[\"Hydro:Pump Storage\"])\n",
    "    energy_source = energy_source.drop(energy_source.index[-2])\n",
    "    energy_source = energy_source.drop(energy_source.index[11])\n",
    "    energy_source = energy_source.drop(energy_source.index[8])\n",
    "    energy_source = energy_source.drop(energy_source.index[6])\n",
    "    energy_source = energy_source.drop(energy_source.index[5])\n",
    "    energy_source = energy_source.sort(columns=\"annual_pct\", ascending=False)\n",
    "    print(energy_source.index)\n",
    "    return energy_source\n",
    "\n",
    "energy_source = load_energy_source()\n",
    "energy_source"
   ]
  },
  {
   "cell_type": "markdown",
   "metadata": {},
   "source": [
    "# Daily Weather Data~~~~~~~~"
   ]
  },
  {
   "cell_type": "code",
   "execution_count": 3,
   "metadata": {
    "collapsed": false
   },
   "outputs": [
    {
     "name": "stdout",
     "output_type": "stream",
     "text": [
      "<class 'pandas.core.frame.DataFrame'>\n",
      "DatetimeIndex: 1802 entries, 2011-01-01 to 2015-12-07\n",
      "Data columns (total 5 columns):\n",
      "highT    1802 non-null float64\n",
      "avgT     1802 non-null float64\n",
      "lowT     1802 non-null float64\n",
      "avgH     1802 non-null int64\n",
      "hdd      1802 non-null float64\n",
      "dtypes: float64(4), int64(1)\n",
      "memory usage: 84.5 KB\n"
     ]
    }
   ],
   "source": [
    "def to_fahrenheit(temp):\n",
    "    return (temp * (9 / 5) + 32).round(1)\n",
    "\n",
    "def load_weather_data():\n",
    "    weather1 = pd.read_csv(\"/Users/travisknop/travis_python/homework/FINAL/weather_daily_2011_15.csv\")\n",
    "    weather1 = weather1.drop(weather1.columns[21], axis=1)\n",
    "    weather1 = weather1.drop(weather1.columns[10:21], axis=1)\n",
    "    weather1 = weather1.drop(weather1.columns[5:9], axis=1)\n",
    "    weather1 = weather1.drop(weather1.columns[1], axis=1)\n",
    "    weather1[\"Unnamed: 0\"] = pd.to_datetime(weather1[\"Unnamed: 0\"])\n",
    "    weather1.columns = [\"date\", \"highT\", \"avgT\", \"lowT\", \"avgH\"]\n",
    "    weather1 = weather1[pd.notnull(weather1['date'])]\n",
    "    weather1 = weather1.set_index(\"date\")\n",
    "    weather1 = weather1.applymap(int)\n",
    "    weather1[\"highT\"] = weather1['highT'].apply(to_fahrenheit)\n",
    "    weather1[\"avgT\"] = weather1['avgT'].apply(to_fahrenheit)\n",
    "    weather1[\"lowT\"] = weather1['lowT'].apply(to_fahrenheit)\n",
    "    weather1[\"hdd\"] = weather1['avgT'].apply(lambda x: 65-x)\n",
    "    return weather1\n",
    "\n",
    "daily_weather = load_weather_data()\n",
    "daily_weather.info()"
   ]
  },
  {
   "cell_type": "code",
   "execution_count": 4,
   "metadata": {
    "collapsed": true
   },
   "outputs": [],
   "source": [
    "daily_weather.to_csv(\"weather_daily_clean.csv\")"
   ]
  },
  {
   "cell_type": "code",
   "execution_count": 5,
   "metadata": {
    "collapsed": false
   },
   "outputs": [
    {
     "data": {
      "text/plain": [
       "([<matplotlib.patches.Wedge at 0x109728a90>,\n",
       "  <matplotlib.patches.Wedge at 0x1094c0a90>,\n",
       "  <matplotlib.patches.Wedge at 0x109753b38>,\n",
       "  <matplotlib.patches.Wedge at 0x10996c438>,\n",
       "  <matplotlib.patches.Wedge at 0x109971cf8>,\n",
       "  <matplotlib.patches.Wedge at 0x10997d5f8>,\n",
       "  <matplotlib.patches.Wedge at 0x109983eb8>,\n",
       "  <matplotlib.patches.Wedge at 0x1099907b8>,\n",
       "  <matplotlib.patches.Wedge at 0x10999a0b8>,\n",
       "  <matplotlib.patches.Wedge at 0x109760978>,\n",
       "  <matplotlib.patches.Wedge at 0x10976c278>,\n",
       "  <matplotlib.patches.Wedge at 0x109772b38>,\n",
       "  <matplotlib.patches.Wedge at 0x10977e438>],\n",
       " [<matplotlib.text.Text at 0x1094c3630>,\n",
       "  <matplotlib.text.Text at 0x1094ce5c0>,\n",
       "  <matplotlib.text.Text at 0x109968908>,\n",
       "  <matplotlib.text.Text at 0x109971208>,\n",
       "  <matplotlib.text.Text at 0x109976ac8>,\n",
       "  <matplotlib.text.Text at 0x1099833c8>,\n",
       "  <matplotlib.text.Text at 0x109988c88>,\n",
       "  <matplotlib.text.Text at 0x109994588>,\n",
       "  <matplotlib.text.Text at 0x10999ae48>,\n",
       "  <matplotlib.text.Text at 0x109767748>,\n",
       "  <matplotlib.text.Text at 0x109772048>,\n",
       "  <matplotlib.text.Text at 0x109778908>,\n",
       "  <matplotlib.text.Text at 0x109784208>],\n",
       " [<matplotlib.text.Text at 0x109707be0>,\n",
       "  <matplotlib.text.Text at 0x1094be470>,\n",
       "  <matplotlib.text.Text at 0x109968eb8>,\n",
       "  <matplotlib.text.Text at 0x1099717b8>,\n",
       "  <matplotlib.text.Text at 0x10997d0b8>,\n",
       "  <matplotlib.text.Text at 0x109983978>,\n",
       "  <matplotlib.text.Text at 0x109990278>,\n",
       "  <matplotlib.text.Text at 0x109994b38>,\n",
       "  <matplotlib.text.Text at 0x109760438>,\n",
       "  <matplotlib.text.Text at 0x109767cf8>,\n",
       "  <matplotlib.text.Text at 0x1097725f8>,\n",
       "  <matplotlib.text.Text at 0x109778eb8>,\n",
       "  <matplotlib.text.Text at 0x1097847b8>])"
      ]
     },
     "execution_count": 5,
     "metadata": {},
     "output_type": "execute_result"
    },
    {
     "data": {
      "image/png": "[encoded data removed]",
      "text/plain": [
       "<matplotlib.figure.Figure at 0x1094b9b00>"
      ]
     },
     "metadata": {},
     "output_type": "display_data"
    }
   ],
   "source": [
    "plt.pie(energy_source.Date[1:], autopct='%1.1f%%', shadow=True)"
   ]
  },
  {
   "cell_type": "code",
   "execution_count": 6,
   "metadata": {
    "collapsed": false
   },
   "outputs": [
    {
     "name": "stdout",
     "output_type": "stream",
     "text": [
      "<class 'pandas.core.frame.DataFrame'>\n",
      "Index: 14 entries, Total Generation (GWh) to Methane/Refuse\n",
      "Data columns (total 14 columns):\n",
      "Date          14 non-null float64\n",
      "JAN           14 non-null float64\n",
      "FEB           14 non-null float64\n",
      "MAR           14 non-null float64\n",
      "APR           14 non-null float64\n",
      "MAY           14 non-null float64\n",
      "JUN           14 non-null float64\n",
      "JUL           14 non-null float64\n",
      "AUG           14 non-null float64\n",
      "SEP           14 non-null float64\n",
      "OCT           14 non-null float64\n",
      "NOV           14 non-null float64\n",
      "DEC           14 non-null float64\n",
      "annual_pct    14 non-null float64\n",
      "dtypes: float64(14)\n",
      "memory usage: 1.6+ KB\n"
     ]
    }
   ],
   "source": [
    "energy_source.info()"
   ]
  },
  {
   "cell_type": "markdown",
   "metadata": {},
   "source": [
    "# Hourly Electricity"
   ]
  },
  {
   "cell_type": "code",
   "execution_count": 7,
   "metadata": {
    "collapsed": false
   },
   "outputs": [
    {
     "name": "stdout",
     "output_type": "stream",
     "text": [
      "<class 'pandas.core.frame.DataFrame'>\n",
      "Int64Index: 43368 entries, 0 to 43405\n",
      "Data columns (total 3 columns):\n",
      "date    43368 non-null datetime64[ns]\n",
      "MWHp    43368 non-null float64\n",
      "MWH     43368 non-null float64\n",
      "dtypes: datetime64[ns](1), float64(2)\n",
      "memory usage: 1.3 MB\n"
     ]
    }
   ],
   "source": [
    "def load_hourly_elec():\n",
    "    hourlydemand14 = pd.read_csv(\"~/travis_python/homework/FINAL/Hr_Elec_2011_2015b.csv\")\n",
    "    hourlydemand14 = hourlydemand14.convert_objects(convert_dates='coerce',convert_numeric=True)\n",
    "    hourlydemand14 = hourlydemand14.drop(hourlydemand14.columns[0], axis=1)\n",
    "    hourlydemand14 = hourlydemand14.drop(hourlydemand14.columns[1], axis=1)\n",
    "    hourlydemand14 = hourlydemand14.dropna()\n",
    "    return hourlydemand14\n",
    "    \n",
    "\n",
    "hr_elec = load_hourly_elec()\n",
    "hr_elec.info()"
   ]
  },
  {
   "cell_type": "markdown",
   "metadata": {},
   "source": [
    "# Daily Electricity"
   ]
  },
  {
   "cell_type": "code",
   "execution_count": 8,
   "metadata": {
    "collapsed": false
   },
   "outputs": [
    {
     "name": "stdout",
     "output_type": "stream",
     "text": [
      "<class 'pandas.core.frame.DataFrame'>\n",
      "DatetimeIndex: 1797 entries, 2011-01-01 to 2015-12-02\n",
      "Data columns (total 2 columns):\n",
      "MWHp    1797 non-null float64\n",
      "MWH     1797 non-null float64\n",
      "dtypes: float64(2)\n",
      "memory usage: 42.1 KB\n"
     ]
    }
   ],
   "source": [
    "def convert_elec_hourly_to_daily():\n",
    "    daily_energy = hr_elec.groupby(\"date\").aggregate(np.sum)\n",
    "    return daily_energy\n",
    "    \n",
    "dy_elec = convert_elec_hourly_to_daily()\n",
    "dy_elec.info()"
   ]
  },
  {
   "cell_type": "markdown",
   "metadata": {},
   "source": [
    "# Join Daily Weather and Electricity:"
   ]
  },
  {
   "cell_type": "code",
   "execution_count": 9,
   "metadata": {
    "collapsed": false
   },
   "outputs": [
    {
     "name": "stdout",
     "output_type": "stream",
     "text": [
      "<class 'pandas.core.frame.DataFrame'>\n",
      "DatetimeIndex: 1797 entries, 2011-01-01 to 2015-12-02\n",
      "Data columns (total 7 columns):\n",
      "highT    1797 non-null float64\n",
      "avgT     1797 non-null float64\n",
      "lowT     1797 non-null float64\n",
      "avgH     1797 non-null int64\n",
      "hdd      1797 non-null float64\n",
      "MWHp     1797 non-null float64\n",
      "MWH      1797 non-null float64\n",
      "dtypes: float64(6), int64(1)\n",
      "memory usage: 112.3 KB\n"
     ]
    }
   ],
   "source": [
    "def join_daily_weather_and_elec():\n",
    "    output = daily_weather.merge(dy_elec, left_index=True, right_index=True)\n",
    "    return output\n",
    "    \n",
    "dy_w_elec = join_daily_weather_and_elec()\n",
    "dy_w_elec.info()"
   ]
  },
  {
   "cell_type": "markdown",
   "metadata": {},
   "source": [
    "# Season & Climate"
   ]
  },
  {
   "cell_type": "code",
   "execution_count": 14,
   "metadata": {
    "collapsed": false
   },
   "outputs": [
    {
     "ename": "KeyError",
     "evalue": "'MaxT'",
     "output_type": "error",
     "traceback": [
      "\u001b[0;31m---------------------------------------------------------------------------\u001b[0m",
      "\u001b[0;31mKeyError\u001b[0m                                  Traceback (most recent call last)",
      "\u001b[0;32m<ipython-input-14-02c75466c0e9>\u001b[0m in \u001b[0;36m<module>\u001b[0;34m()\u001b[0m\n\u001b[1;32m      9\u001b[0m     \u001b[0;32mreturn\u001b[0m \u001b[0moutput\u001b[0m\u001b[0;34m\u001b[0m\u001b[0m\n\u001b[1;32m     10\u001b[0m \u001b[0;34m\u001b[0m\u001b[0m\n\u001b[0;32m---> 11\u001b[0;31m \u001b[0mclimate\u001b[0m \u001b[0;34m=\u001b[0m \u001b[0mload_climate\u001b[0m\u001b[0;34m(\u001b[0m\u001b[0;34m)\u001b[0m\u001b[0;34m\u001b[0m\u001b[0m\n\u001b[0m\u001b[1;32m     12\u001b[0m \u001b[0mclimate\u001b[0m\u001b[0;34m.\u001b[0m\u001b[0mdescribe\u001b[0m\u001b[0;34m(\u001b[0m\u001b[0;34m)\u001b[0m\u001b[0;34m\u001b[0m\u001b[0m\n",
      "\u001b[0;32m<ipython-input-14-02c75466c0e9>\u001b[0m in \u001b[0;36mload_climate\u001b[0;34m()\u001b[0m\n\u001b[1;32m      2\u001b[0m     \u001b[0moutput\u001b[0m \u001b[0;34m=\u001b[0m \u001b[0mpd\u001b[0m\u001b[0;34m.\u001b[0m\u001b[0mread_csv\u001b[0m\u001b[0;34m(\u001b[0m\u001b[0;34m\"~/travis_python/homework/FINAL/Climate.csv\"\u001b[0m\u001b[0;34m,\u001b[0m \u001b[0mheader\u001b[0m\u001b[0;34m=\u001b[0m\u001b[0;36m1\u001b[0m\u001b[0;34m)\u001b[0m\u001b[0;34m\u001b[0m\u001b[0m\n\u001b[1;32m      3\u001b[0m     \u001b[0moutput\u001b[0m\u001b[0;34m[\u001b[0m\u001b[0;34m\"day_of_year\"\u001b[0m\u001b[0;34m]\u001b[0m \u001b[0;34m=\u001b[0m \u001b[0moutput\u001b[0m\u001b[0;34m.\u001b[0m\u001b[0mindex\u001b[0m\u001b[0;34m\u001b[0m\u001b[0m\n\u001b[0;32m----> 4\u001b[0;31m     \u001b[0moutput\u001b[0m\u001b[0;34m[\u001b[0m\u001b[0;34m\"clim_high\"\u001b[0m\u001b[0;34m]\u001b[0m \u001b[0;34m=\u001b[0m \u001b[0moutput\u001b[0m\u001b[0;34m[\u001b[0m\u001b[0;34m\"MaxT\"\u001b[0m\u001b[0;34m]\u001b[0m\u001b[0;34m.\u001b[0m\u001b[0mapply\u001b[0m\u001b[0;34m(\u001b[0m\u001b[0mfloat\u001b[0m\u001b[0;34m)\u001b[0m\u001b[0;34m\u001b[0m\u001b[0m\n\u001b[0m\u001b[1;32m      5\u001b[0m     \u001b[0moutput\u001b[0m\u001b[0;34m[\u001b[0m\u001b[0;34m\"clim_avg\"\u001b[0m\u001b[0;34m]\u001b[0m \u001b[0;34m=\u001b[0m \u001b[0moutput\u001b[0m\u001b[0;34m[\u001b[0m\u001b[0;34m\"AveT\"\u001b[0m\u001b[0;34m]\u001b[0m\u001b[0;34m.\u001b[0m\u001b[0mapply\u001b[0m\u001b[0;34m(\u001b[0m\u001b[0mfloat\u001b[0m\u001b[0;34m)\u001b[0m\u001b[0;34m\u001b[0m\u001b[0m\n\u001b[1;32m      6\u001b[0m     \u001b[0moutput\u001b[0m\u001b[0;34m[\u001b[0m\u001b[0;34m\"clim_low\"\u001b[0m\u001b[0;34m]\u001b[0m \u001b[0;34m=\u001b[0m \u001b[0moutput\u001b[0m\u001b[0;34m[\u001b[0m\u001b[0;34m\"MinT\"\u001b[0m\u001b[0;34m]\u001b[0m\u001b[0;34m.\u001b[0m\u001b[0mapply\u001b[0m\u001b[0;34m(\u001b[0m\u001b[0mfloat\u001b[0m\u001b[0;34m)\u001b[0m\u001b[0;34m\u001b[0m\u001b[0m\n",
      "\u001b[0;32m/Users/travisknop/travis_python/.direnv/python-3.5.0/lib/python3.5/site-packages/pandas/core/frame.py\u001b[0m in \u001b[0;36m__getitem__\u001b[0;34m(self, key)\u001b[0m\n\u001b[1;32m   1795\u001b[0m             \u001b[0;32mreturn\u001b[0m \u001b[0mself\u001b[0m\u001b[0;34m.\u001b[0m\u001b[0m_getitem_multilevel\u001b[0m\u001b[0;34m(\u001b[0m\u001b[0mkey\u001b[0m\u001b[0;34m)\u001b[0m\u001b[0;34m\u001b[0m\u001b[0m\n\u001b[1;32m   1796\u001b[0m         \u001b[0;32melse\u001b[0m\u001b[0;34m:\u001b[0m\u001b[0;34m\u001b[0m\u001b[0m\n\u001b[0;32m-> 1797\u001b[0;31m             \u001b[0;32mreturn\u001b[0m \u001b[0mself\u001b[0m\u001b[0;34m.\u001b[0m\u001b[0m_getitem_column\u001b[0m\u001b[0;34m(\u001b[0m\u001b[0mkey\u001b[0m\u001b[0;34m)\u001b[0m\u001b[0;34m\u001b[0m\u001b[0m\n\u001b[0m\u001b[1;32m   1798\u001b[0m \u001b[0;34m\u001b[0m\u001b[0m\n\u001b[1;32m   1799\u001b[0m     \u001b[0;32mdef\u001b[0m \u001b[0m_getitem_column\u001b[0m\u001b[0;34m(\u001b[0m\u001b[0mself\u001b[0m\u001b[0;34m,\u001b[0m \u001b[0mkey\u001b[0m\u001b[0;34m)\u001b[0m\u001b[0;34m:\u001b[0m\u001b[0;34m\u001b[0m\u001b[0m\n",
      "\u001b[0;32m/Users/travisknop/travis_python/.direnv/python-3.5.0/lib/python3.5/site-packages/pandas/core/frame.py\u001b[0m in \u001b[0;36m_getitem_column\u001b[0;34m(self, key)\u001b[0m\n\u001b[1;32m   1802\u001b[0m         \u001b[0;31m# get column\u001b[0m\u001b[0;34m\u001b[0m\u001b[0;34m\u001b[0m\u001b[0m\n\u001b[1;32m   1803\u001b[0m         \u001b[0;32mif\u001b[0m \u001b[0mself\u001b[0m\u001b[0;34m.\u001b[0m\u001b[0mcolumns\u001b[0m\u001b[0;34m.\u001b[0m\u001b[0mis_unique\u001b[0m\u001b[0;34m:\u001b[0m\u001b[0;34m\u001b[0m\u001b[0m\n\u001b[0;32m-> 1804\u001b[0;31m             \u001b[0;32mreturn\u001b[0m \u001b[0mself\u001b[0m\u001b[0;34m.\u001b[0m\u001b[0m_get_item_cache\u001b[0m\u001b[0;34m(\u001b[0m\u001b[0mkey\u001b[0m\u001b[0;34m)\u001b[0m\u001b[0;34m\u001b[0m\u001b[0m\n\u001b[0m\u001b[1;32m   1805\u001b[0m \u001b[0;34m\u001b[0m\u001b[0m\n\u001b[1;32m   1806\u001b[0m         \u001b[0;31m# duplicate columns & possible reduce dimensionaility\u001b[0m\u001b[0;34m\u001b[0m\u001b[0;34m\u001b[0m\u001b[0m\n",
      "\u001b[0;32m/Users/travisknop/travis_python/.direnv/python-3.5.0/lib/python3.5/site-packages/pandas/core/generic.py\u001b[0m in \u001b[0;36m_get_item_cache\u001b[0;34m(self, item)\u001b[0m\n\u001b[1;32m   1082\u001b[0m         \u001b[0mres\u001b[0m \u001b[0;34m=\u001b[0m \u001b[0mcache\u001b[0m\u001b[0;34m.\u001b[0m\u001b[0mget\u001b[0m\u001b[0;34m(\u001b[0m\u001b[0mitem\u001b[0m\u001b[0;34m)\u001b[0m\u001b[0;34m\u001b[0m\u001b[0m\n\u001b[1;32m   1083\u001b[0m         \u001b[0;32mif\u001b[0m \u001b[0mres\u001b[0m \u001b[0;32mis\u001b[0m \u001b[0;32mNone\u001b[0m\u001b[0;34m:\u001b[0m\u001b[0;34m\u001b[0m\u001b[0m\n\u001b[0;32m-> 1084\u001b[0;31m             \u001b[0mvalues\u001b[0m \u001b[0;34m=\u001b[0m \u001b[0mself\u001b[0m\u001b[0;34m.\u001b[0m\u001b[0m_data\u001b[0m\u001b[0;34m.\u001b[0m\u001b[0mget\u001b[0m\u001b[0;34m(\u001b[0m\u001b[0mitem\u001b[0m\u001b[0;34m)\u001b[0m\u001b[0;34m\u001b[0m\u001b[0m\n\u001b[0m\u001b[1;32m   1085\u001b[0m             \u001b[0mres\u001b[0m \u001b[0;34m=\u001b[0m \u001b[0mself\u001b[0m\u001b[0;34m.\u001b[0m\u001b[0m_box_item_values\u001b[0m\u001b[0;34m(\u001b[0m\u001b[0mitem\u001b[0m\u001b[0;34m,\u001b[0m \u001b[0mvalues\u001b[0m\u001b[0;34m)\u001b[0m\u001b[0;34m\u001b[0m\u001b[0m\n\u001b[1;32m   1086\u001b[0m             \u001b[0mcache\u001b[0m\u001b[0;34m[\u001b[0m\u001b[0mitem\u001b[0m\u001b[0;34m]\u001b[0m \u001b[0;34m=\u001b[0m \u001b[0mres\u001b[0m\u001b[0;34m\u001b[0m\u001b[0m\n",
      "\u001b[0;32m/Users/travisknop/travis_python/.direnv/python-3.5.0/lib/python3.5/site-packages/pandas/core/internals.py\u001b[0m in \u001b[0;36mget\u001b[0;34m(self, item, fastpath)\u001b[0m\n\u001b[1;32m   2849\u001b[0m \u001b[0;34m\u001b[0m\u001b[0m\n\u001b[1;32m   2850\u001b[0m             \u001b[0;32mif\u001b[0m \u001b[0;32mnot\u001b[0m \u001b[0misnull\u001b[0m\u001b[0;34m(\u001b[0m\u001b[0mitem\u001b[0m\u001b[0;34m)\u001b[0m\u001b[0;34m:\u001b[0m\u001b[0;34m\u001b[0m\u001b[0m\n\u001b[0;32m-> 2851\u001b[0;31m                 \u001b[0mloc\u001b[0m \u001b[0;34m=\u001b[0m \u001b[0mself\u001b[0m\u001b[0;34m.\u001b[0m\u001b[0mitems\u001b[0m\u001b[0;34m.\u001b[0m\u001b[0mget_loc\u001b[0m\u001b[0;34m(\u001b[0m\u001b[0mitem\u001b[0m\u001b[0;34m)\u001b[0m\u001b[0;34m\u001b[0m\u001b[0m\n\u001b[0m\u001b[1;32m   2852\u001b[0m             \u001b[0;32melse\u001b[0m\u001b[0;34m:\u001b[0m\u001b[0;34m\u001b[0m\u001b[0m\n\u001b[1;32m   2853\u001b[0m                 \u001b[0mindexer\u001b[0m \u001b[0;34m=\u001b[0m \u001b[0mnp\u001b[0m\u001b[0;34m.\u001b[0m\u001b[0marange\u001b[0m\u001b[0;34m(\u001b[0m\u001b[0mlen\u001b[0m\u001b[0;34m(\u001b[0m\u001b[0mself\u001b[0m\u001b[0;34m.\u001b[0m\u001b[0mitems\u001b[0m\u001b[0;34m)\u001b[0m\u001b[0;34m)\u001b[0m\u001b[0;34m[\u001b[0m\u001b[0misnull\u001b[0m\u001b[0;34m(\u001b[0m\u001b[0mself\u001b[0m\u001b[0;34m.\u001b[0m\u001b[0mitems\u001b[0m\u001b[0;34m)\u001b[0m\u001b[0;34m]\u001b[0m\u001b[0;34m\u001b[0m\u001b[0m\n",
      "\u001b[0;32m/Users/travisknop/travis_python/.direnv/python-3.5.0/lib/python3.5/site-packages/pandas/core/index.py\u001b[0m in \u001b[0;36mget_loc\u001b[0;34m(self, key, method)\u001b[0m\n\u001b[1;32m   1570\u001b[0m         \"\"\"\n\u001b[1;32m   1571\u001b[0m         \u001b[0;32mif\u001b[0m \u001b[0mmethod\u001b[0m \u001b[0;32mis\u001b[0m \u001b[0;32mNone\u001b[0m\u001b[0;34m:\u001b[0m\u001b[0;34m\u001b[0m\u001b[0m\n\u001b[0;32m-> 1572\u001b[0;31m             \u001b[0;32mreturn\u001b[0m \u001b[0mself\u001b[0m\u001b[0;34m.\u001b[0m\u001b[0m_engine\u001b[0m\u001b[0;34m.\u001b[0m\u001b[0mget_loc\u001b[0m\u001b[0;34m(\u001b[0m\u001b[0m_values_from_object\u001b[0m\u001b[0;34m(\u001b[0m\u001b[0mkey\u001b[0m\u001b[0;34m)\u001b[0m\u001b[0;34m)\u001b[0m\u001b[0;34m\u001b[0m\u001b[0m\n\u001b[0m\u001b[1;32m   1573\u001b[0m \u001b[0;34m\u001b[0m\u001b[0m\n\u001b[1;32m   1574\u001b[0m         \u001b[0mindexer\u001b[0m \u001b[0;34m=\u001b[0m \u001b[0mself\u001b[0m\u001b[0;34m.\u001b[0m\u001b[0mget_indexer\u001b[0m\u001b[0;34m(\u001b[0m\u001b[0;34m[\u001b[0m\u001b[0mkey\u001b[0m\u001b[0;34m]\u001b[0m\u001b[0;34m,\u001b[0m \u001b[0mmethod\u001b[0m\u001b[0;34m=\u001b[0m\u001b[0mmethod\u001b[0m\u001b[0;34m)\u001b[0m\u001b[0;34m\u001b[0m\u001b[0m\n",
      "\u001b[0;32mpandas/index.pyx\u001b[0m in \u001b[0;36mpandas.index.IndexEngine.get_loc (pandas/index.c:3824)\u001b[0;34m()\u001b[0m\n",
      "\u001b[0;32mpandas/index.pyx\u001b[0m in \u001b[0;36mpandas.index.IndexEngine.get_loc (pandas/index.c:3704)\u001b[0;34m()\u001b[0m\n",
      "\u001b[0;32mpandas/hashtable.pyx\u001b[0m in \u001b[0;36mpandas.hashtable.PyObjectHashTable.get_item (pandas/hashtable.c:12280)\u001b[0;34m()\u001b[0m\n",
      "\u001b[0;32mpandas/hashtable.pyx\u001b[0m in \u001b[0;36mpandas.hashtable.PyObjectHashTable.get_item (pandas/hashtable.c:12231)\u001b[0;34m()\u001b[0m\n",
      "\u001b[0;31mKeyError\u001b[0m: 'MaxT'"
     ]
    }
   ],
   "source": [
    "def load_climate():\n",
    "    output = pd.read_csv(\"~/travis_python/homework/FINAL/Climate.csv\", header=1)\n",
    "    output[\"day_of_year\"] = output.index\n",
    "    output[\"clim_high\"] = output[\"MaxT\"].apply(float)\n",
    "    output[\"clim_avg\"] = output[\"AveT\"].apply(float)\n",
    "    output[\"clim_low\"] = output[\"MinT\"].apply(float)\n",
    "    print(output.head())\n",
    "    output = output.drop(output.columns[:4], axis=1)\n",
    "    return output\n",
    "\n",
    "climate = load_climate()\n",
    "climate.describe()"
   ]
  },
  {
   "cell_type": "code",
   "execution_count": 22,
   "metadata": {
    "collapsed": false
   },
   "outputs": [
    {
     "data": {
      "text/html": [
       "<div>\n",
       "<table border=\"1\" class=\"dataframe\">\n",
       "  <thead>\n",
       "    <tr style=\"text-align: right;\">\n",
       "      <th></th>\n",
       "      <th>day_of_year</th>\n",
       "      <th>clim_high</th>\n",
       "      <th>clim_avg</th>\n",
       "      <th>clim_low</th>\n",
       "    </tr>\n",
       "    <tr>\n",
       "      <th>date</th>\n",
       "      <th></th>\n",
       "      <th></th>\n",
       "      <th></th>\n",
       "      <th></th>\n",
       "    </tr>\n",
       "  </thead>\n",
       "  <tbody>\n",
       "    <tr>\n",
       "      <th>2015-11-28</th>\n",
       "      <td>327</td>\n",
       "      <td>49.3</td>\n",
       "      <td>42.5</td>\n",
       "      <td>35.7</td>\n",
       "    </tr>\n",
       "    <tr>\n",
       "      <th>2015-11-29</th>\n",
       "      <td>328</td>\n",
       "      <td>48.9</td>\n",
       "      <td>42.1</td>\n",
       "      <td>35.3</td>\n",
       "    </tr>\n",
       "    <tr>\n",
       "      <th>2015-11-30</th>\n",
       "      <td>329</td>\n",
       "      <td>48.5</td>\n",
       "      <td>41.7</td>\n",
       "      <td>34.9</td>\n",
       "    </tr>\n",
       "    <tr>\n",
       "      <th>2015-12-01</th>\n",
       "      <td>330</td>\n",
       "      <td>48.2</td>\n",
       "      <td>41.4</td>\n",
       "      <td>34.6</td>\n",
       "    </tr>\n",
       "    <tr>\n",
       "      <th>2015-12-02</th>\n",
       "      <td>331</td>\n",
       "      <td>47.8</td>\n",
       "      <td>41.0</td>\n",
       "      <td>34.2</td>\n",
       "    </tr>\n",
       "  </tbody>\n",
       "</table>\n",
       "</div>"
      ],
      "text/plain": [
       "            day_of_year  clim_high  clim_avg  clim_low\n",
       "date                                                  \n",
       "2015-11-28          327       49.3      42.5      35.7\n",
       "2015-11-29          328       48.9      42.1      35.3\n",
       "2015-11-30          329       48.5      41.7      34.9\n",
       "2015-12-01          330       48.2      41.4      34.6\n",
       "2015-12-02          331       47.8      41.0      34.2"
      ]
     },
     "execution_count": 22,
     "metadata": {},
     "output_type": "execute_result"
    }
   ],
   "source": [
    "def load_climate():\n",
    "    output = pd.read_csv(\"~/travis_python/homework/FINAL/Climate.csv\")\n",
    "    output = output.drop(output.columns[0], axis=1)\n",
    "    output = output.iloc[:1797]\n",
    "    output = output.set_index(dy_w_elec.index)\n",
    "    return output\n",
    "\n",
    "climate = load_climate()\n",
    "climate.tail()"
   ]
  },
  {
   "cell_type": "code",
   "execution_count": null,
   "metadata": {
    "collapsed": true
   },
   "outputs": [],
   "source": []
  },
  {
   "cell_type": "markdown",
   "metadata": {},
   "source": [
    "# Add Climate to Daily"
   ]
  },
  {
   "cell_type": "code",
   "execution_count": 23,
   "metadata": {
    "collapsed": false
   },
   "outputs": [
    {
     "data": {
      "text/html": [
       "<div>\n",
       "<table border=\"1\" class=\"dataframe\">\n",
       "  <thead>\n",
       "    <tr style=\"text-align: right;\">\n",
       "      <th></th>\n",
       "      <th>highT</th>\n",
       "      <th>avgT</th>\n",
       "      <th>lowT</th>\n",
       "      <th>avgH</th>\n",
       "      <th>hdd</th>\n",
       "      <th>MWHp</th>\n",
       "      <th>MWH</th>\n",
       "      <th>day_of_year</th>\n",
       "      <th>clim_high</th>\n",
       "      <th>clim_avg</th>\n",
       "      <th>clim_low</th>\n",
       "    </tr>\n",
       "    <tr>\n",
       "      <th>date</th>\n",
       "      <th></th>\n",
       "      <th></th>\n",
       "      <th></th>\n",
       "      <th></th>\n",
       "      <th></th>\n",
       "      <th></th>\n",
       "      <th></th>\n",
       "      <th></th>\n",
       "      <th></th>\n",
       "      <th></th>\n",
       "      <th></th>\n",
       "    </tr>\n",
       "  </thead>\n",
       "  <tbody>\n",
       "    <tr>\n",
       "      <th>2011-01-01</th>\n",
       "      <td>55.4</td>\n",
       "      <td>46.4</td>\n",
       "      <td>35.6</td>\n",
       "      <td>73</td>\n",
       "      <td>18.6</td>\n",
       "      <td>37361.3</td>\n",
       "      <td>36901.9</td>\n",
       "      <td>0</td>\n",
       "      <td>37.8</td>\n",
       "      <td>30.7</td>\n",
       "      <td>23.6</td>\n",
       "    </tr>\n",
       "    <tr>\n",
       "      <th>2011-01-02</th>\n",
       "      <td>51.8</td>\n",
       "      <td>44.6</td>\n",
       "      <td>37.4</td>\n",
       "      <td>85</td>\n",
       "      <td>20.4</td>\n",
       "      <td>36875.0</td>\n",
       "      <td>37802.5</td>\n",
       "      <td>1</td>\n",
       "      <td>37.6</td>\n",
       "      <td>30.5</td>\n",
       "      <td>23.4</td>\n",
       "    </tr>\n",
       "    <tr>\n",
       "      <th>2011-01-03</th>\n",
       "      <td>37.4</td>\n",
       "      <td>33.8</td>\n",
       "      <td>28.4</td>\n",
       "      <td>48</td>\n",
       "      <td>31.2</td>\n",
       "      <td>40222.2</td>\n",
       "      <td>42653.6</td>\n",
       "      <td>2</td>\n",
       "      <td>37.5</td>\n",
       "      <td>30.4</td>\n",
       "      <td>23.3</td>\n",
       "    </tr>\n",
       "    <tr>\n",
       "      <th>2011-01-04</th>\n",
       "      <td>39.2</td>\n",
       "      <td>32.0</td>\n",
       "      <td>24.8</td>\n",
       "      <td>52</td>\n",
       "      <td>33.0</td>\n",
       "      <td>45005.6</td>\n",
       "      <td>43458.4</td>\n",
       "      <td>3</td>\n",
       "      <td>37.3</td>\n",
       "      <td>30.2</td>\n",
       "      <td>23.1</td>\n",
       "    </tr>\n",
       "    <tr>\n",
       "      <th>2011-01-05</th>\n",
       "      <td>39.2</td>\n",
       "      <td>33.8</td>\n",
       "      <td>28.4</td>\n",
       "      <td>49</td>\n",
       "      <td>31.2</td>\n",
       "      <td>41358.7</td>\n",
       "      <td>43275.3</td>\n",
       "      <td>4</td>\n",
       "      <td>37.2</td>\n",
       "      <td>30.1</td>\n",
       "      <td>22.9</td>\n",
       "    </tr>\n",
       "  </tbody>\n",
       "</table>\n",
       "</div>"
      ],
      "text/plain": [
       "            highT  avgT  lowT  avgH   hdd     MWHp      MWH  day_of_year  \\\n",
       "date                                                                       \n",
       "2011-01-01   55.4  46.4  35.6    73  18.6  37361.3  36901.9            0   \n",
       "2011-01-02   51.8  44.6  37.4    85  20.4  36875.0  37802.5            1   \n",
       "2011-01-03   37.4  33.8  28.4    48  31.2  40222.2  42653.6            2   \n",
       "2011-01-04   39.2  32.0  24.8    52  33.0  45005.6  43458.4            3   \n",
       "2011-01-05   39.2  33.8  28.4    49  31.2  41358.7  43275.3            4   \n",
       "\n",
       "            clim_high  clim_avg  clim_low  \n",
       "date                                       \n",
       "2011-01-01       37.8      30.7      23.6  \n",
       "2011-01-02       37.6      30.5      23.4  \n",
       "2011-01-03       37.5      30.4      23.3  \n",
       "2011-01-04       37.3      30.2      23.1  \n",
       "2011-01-05       37.2      30.1      22.9  "
      ]
     },
     "execution_count": 23,
     "metadata": {},
     "output_type": "execute_result"
    }
   ],
   "source": [
    "def add_climate_daily():\n",
    "    df = dy_w_elec.merge(climate, left_index=True, right_index=True)\n",
    "    return df\n",
    "\n",
    "dwc_elec = add_climate_daily()\n",
    "dwc_elec.head()"
   ]
  },
  {
   "cell_type": "code",
   "execution_count": null,
   "metadata": {
    "collapsed": false
   },
   "outputs": [],
   "source": [
    "dy_w_elec.iloc[100:150]"
   ]
  },
  {
   "cell_type": "code",
   "execution_count": null,
   "metadata": {
    "collapsed": true
   },
   "outputs": [],
   "source": []
  },
  {
   "cell_type": "code",
   "execution_count": null,
   "metadata": {
    "collapsed": true
   },
   "outputs": [],
   "source": []
  }
 ],
 "metadata": {
  "kernelspec": {
   "display_name": "Python 3",
   "language": "python",
   "name": "python3"
  },
  "language_info": {
   "codemirror_mode": {
    "name": "ipython",
    "version": 3
   },
   "file_extension": ".py",
   "mimetype": "text/x-python",
   "name": "python",
   "nbconvert_exporter": "python",
   "pygments_lexer": "ipython3",
   "version": "3.5.0"
  }
 },
 "nbformat": 4,
 "nbformat_minor": 0
}
